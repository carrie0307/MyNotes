{
 "cells": [
  {
   "cell_type": "code",
   "execution_count": 13,
   "metadata": {},
   "outputs": [],
   "source": [
    "import torch"
   ]
  },
  {
   "cell_type": "code",
   "execution_count": 14,
   "metadata": {},
   "outputs": [],
   "source": [
    "token_ids = torch.LongTensor([1,2,3,4,0,0,0])"
   ]
  },
  {
   "cell_type": "code",
   "execution_count": 15,
   "metadata": {},
   "outputs": [],
   "source": [
    "length = 4\n",
    "max_len = 7"
   ]
  },
  {
   "cell_type": "code",
   "execution_count": 16,
   "metadata": {},
   "outputs": [
    {
     "data": {
      "text/plain": [
       "tensor([3, 2, 1, 0, 4, 5, 6])"
      ]
     },
     "execution_count": 16,
     "metadata": {},
     "output_type": "execute_result"
    }
   ],
   "source": [
    "inverse_idx = [i for i in range(length-1, -1, -1)]\n",
    "inverse_idx = inverse_idx + list(range(length, max_len, 1))\n",
    "inverse_idx = torch.LongTensor(inverse_idx)\n",
    "inverse_idx"
   ]
  },
  {
   "cell_type": "code",
   "execution_count": 17,
   "metadata": {},
   "outputs": [
    {
     "data": {
      "text/plain": [
       "tensor([4, 3, 2, 1, 0, 0, 0])"
      ]
     },
     "execution_count": 17,
     "metadata": {},
     "output_type": "execute_result"
    }
   ],
   "source": [
    "inverse_tokenids = token_ids.index_select(0, inverse_idx)\n",
    "inverse_tokenids"
   ]
  },
  {
   "cell_type": "code",
   "execution_count": 18,
   "metadata": {},
   "outputs": [],
   "source": [
    "# 获取embedding后实际内容的逆向部分"
   ]
  },
  {
   "cell_type": "code",
   "execution_count": 19,
   "metadata": {},
   "outputs": [
    {
     "data": {
      "text/plain": [
       "tensor([[[5, 3],\n",
       "         [3, 1],\n",
       "         [3, 3],\n",
       "         [5, 1],\n",
       "         [3, 5],\n",
       "         [2, 3],\n",
       "         [3, 2]],\n",
       "\n",
       "        [[4, 2],\n",
       "         [1, 1],\n",
       "         [3, 3],\n",
       "         [2, 3],\n",
       "         [2, 4],\n",
       "         [4, 5],\n",
       "         [2, 5]],\n",
       "\n",
       "        [[4, 3],\n",
       "         [1, 3],\n",
       "         [5, 4],\n",
       "         [1, 1],\n",
       "         [5, 3],\n",
       "         [3, 3],\n",
       "         [2, 2]]])"
      ]
     },
     "execution_count": 19,
     "metadata": {},
     "output_type": "execute_result"
    }
   ],
   "source": [
    "batch, max_len, dim = 3, 7, 2\n",
    "lengths = [4,5,6]\n",
    "token_emb = torch.randint(1, 6, (3,7, 2))\n",
    "token_emb"
   ]
  },
  {
   "cell_type": "code",
   "execution_count": 24,
   "metadata": {},
   "outputs": [
    {
     "data": {
      "text/plain": [
       "[[3, 2, 1, 0, 4, 5, 6], [4, 3, 2, 1, 0, 5, 6], [5, 4, 3, 2, 1, 0, 6]]"
      ]
     },
     "execution_count": 24,
     "metadata": {},
     "output_type": "execute_result"
    }
   ],
   "source": [
    "idx = [[j for j in range(lengths[i]-1, -1, -1)] + list(range(lengths[i], max_len, 1)) for i in range(batch)]\n",
    "idx"
   ]
  },
  {
   "cell_type": "code",
   "execution_count": 26,
   "metadata": {},
   "outputs": [
    {
     "data": {
      "text/plain": [
       "tensor([[3, 2, 1, 0, 4, 5, 6],\n",
       "        [4, 3, 2, 1, 0, 5, 6],\n",
       "        [5, 4, 3, 2, 1, 0, 6]])"
      ]
     },
     "execution_count": 26,
     "metadata": {},
     "output_type": "execute_result"
    }
   ],
   "source": [
    "inverse_idx = torch.LongTensor(idx)\n",
    "inverse_idx"
   ]
  },
  {
   "cell_type": "code",
   "execution_count": 35,
   "metadata": {},
   "outputs": [
    {
     "data": {
      "text/plain": [
       "[tensor([[5, 1],\n",
       "         [3, 3],\n",
       "         [3, 1],\n",
       "         [5, 3],\n",
       "         [3, 5],\n",
       "         [2, 3],\n",
       "         [3, 2]]), tensor([[2, 4],\n",
       "         [2, 3],\n",
       "         [3, 3],\n",
       "         [1, 1],\n",
       "         [4, 2],\n",
       "         [4, 5],\n",
       "         [2, 5]]), tensor([[3, 3],\n",
       "         [5, 3],\n",
       "         [1, 1],\n",
       "         [5, 4],\n",
       "         [1, 3],\n",
       "         [4, 3],\n",
       "         [2, 2]])]"
      ]
     },
     "execution_count": 35,
     "metadata": {},
     "output_type": "execute_result"
    }
   ],
   "source": [
    "inverse_token_emb = [token_emb[i].index_select(0, inverse_idx[i]) for i in range(batch)]\n",
    "inverse_token_emb"
   ]
  },
  {
   "cell_type": "code",
   "execution_count": 39,
   "metadata": {},
   "outputs": [
    {
     "data": {
      "text/plain": [
       "tensor([[[5, 1],\n",
       "         [3, 3],\n",
       "         [3, 1],\n",
       "         [5, 3],\n",
       "         [3, 5],\n",
       "         [2, 3],\n",
       "         [3, 2]],\n",
       "\n",
       "        [[2, 4],\n",
       "         [2, 3],\n",
       "         [3, 3],\n",
       "         [1, 1],\n",
       "         [4, 2],\n",
       "         [4, 5],\n",
       "         [2, 5]],\n",
       "\n",
       "        [[3, 3],\n",
       "         [5, 3],\n",
       "         [1, 1],\n",
       "         [5, 4],\n",
       "         [1, 3],\n",
       "         [4, 3],\n",
       "         [2, 2]]])"
      ]
     },
     "execution_count": 39,
     "metadata": {},
     "output_type": "execute_result"
    }
   ],
   "source": [
    "torch.stack(inverse_token_emb, dim=0)"
   ]
  },
  {
   "cell_type": "code",
   "execution_count": null,
   "metadata": {},
   "outputs": [],
   "source": []
  }
 ],
 "metadata": {
  "kernelspec": {
   "display_name": "Python 3",
   "language": "python",
   "name": "python3"
  },
  "language_info": {
   "codemirror_mode": {
    "name": "ipython",
    "version": 3
   },
   "file_extension": ".py",
   "mimetype": "text/x-python",
   "name": "python",
   "nbconvert_exporter": "python",
   "pygments_lexer": "ipython3",
   "version": "3.6.6"
  }
 },
 "nbformat": 4,
 "nbformat_minor": 2
}
