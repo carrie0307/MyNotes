{
 "cells": [
  {
   "cell_type": "code",
   "execution_count": 1,
   "metadata": {},
   "outputs": [],
   "source": [
    "# numpy生成各类随机数记录\n",
    "# 以下内容复现与记录于 https://blog.csdn.net/xtingjie/article/details/71068032\n",
    "import numpy as np"
   ]
  },
  {
   "cell_type": "markdown",
   "metadata": {},
   "source": [
    "1. rand函数,产生(0,1)之间的随机数，形状为shape;\n",
    "2. randn函数,产生标准正态分布，均值为0， 方差为1， 参数也是shape;\n",
    "3. randint函数，产生指定范围的随机数，前两个参数表示范围，最后一个参数是size=(shape)"
   ]
  },
  {
   "cell_type": "code",
   "execution_count": 2,
   "metadata": {},
   "outputs": [
    {
     "data": {
      "text/plain": [
       "array([[0.19483362, 0.91670156, 0.4399618 , 0.94921376],\n",
       "       [0.38746957, 0.11800901, 0.53948757, 0.9657558 ],\n",
       "       [0.35052798, 0.49652603, 0.70189962, 0.09240917]])"
      ]
     },
     "execution_count": 2,
     "metadata": {},
     "output_type": "execute_result"
    }
   ],
   "source": [
    "np.random.rand(3,4)"
   ]
  },
  {
   "cell_type": "code",
   "execution_count": 4,
   "metadata": {},
   "outputs": [
    {
     "data": {
      "text/plain": [
       "array([[-1.76236155, -1.21069216, -0.18050335,  0.41750398],\n",
       "       [-0.02556024,  1.00287226,  1.55230305, -0.24289601],\n",
       "       [-0.39850797,  1.96651807,  0.34362083,  0.54968736]])"
      ]
     },
     "execution_count": 4,
     "metadata": {},
     "output_type": "execute_result"
    }
   ],
   "source": [
    "np.random.randn(3,4)"
   ]
  },
  {
   "cell_type": "code",
   "execution_count": 5,
   "metadata": {},
   "outputs": [
    {
     "data": {
      "text/plain": [
       "array([[4, 2, 3, 2],\n",
       "       [4, 3, 4, 2],\n",
       "       [2, 2, 3, 2]])"
      ]
     },
     "execution_count": 5,
     "metadata": {},
     "output_type": "execute_result"
    }
   ],
   "source": [
    "np.random.randint(2,5,(3,4))"
   ]
  },
  {
   "cell_type": "markdown",
   "metadata": {},
   "source": [
    "1. uniform产生特定上下界的随机数    numpy.random.uniform(low=0.0, high=1.0, size=None)\n",
    "2. normal产生满足高斯分布的随机数   numpy.random.normal(loc=mean, scale=standard_deviation, size=None)\n",
    "3. poisson产生满足泊松分布的随机数   numpy.random.poisson(lam=1.0, size=None)"
   ]
  },
  {
   "cell_type": "code",
   "execution_count": 6,
   "metadata": {},
   "outputs": [
    {
     "data": {
      "text/plain": [
       "array([[1.03047611, 1.10710598, 1.00668615, 1.80903454],\n",
       "       [1.81071181, 1.53326624, 1.06284027, 1.06866312],\n",
       "       [1.27354217, 1.01129166, 1.26985659, 1.41643385]])"
      ]
     },
     "execution_count": 6,
     "metadata": {},
     "output_type": "execute_result"
    }
   ],
   "source": [
    "np.random.uniform(low=1.0, high=2.0, size=(3,4))"
   ]
  },
  {
   "cell_type": "code",
   "execution_count": 7,
   "metadata": {},
   "outputs": [
    {
     "data": {
      "text/plain": [
       "array([[ 0.25761882,  1.66297642,  6.90398747,  3.9584744 ],\n",
       "       [-0.61252431,  3.11737043,  7.1029655 ,  5.68738939],\n",
       "       [-0.19456782,  9.27584867,  3.49723265,  0.51259952]])"
      ]
     },
     "execution_count": 7,
     "metadata": {},
     "output_type": "execute_result"
    }
   ],
   "source": [
    "np.random.normal(loc=2, scale=3, size=(3,4))"
   ]
  },
  {
   "cell_type": "code",
   "execution_count": 8,
   "metadata": {},
   "outputs": [
    {
     "data": {
      "text/plain": [
       "array([[4, 0, 0, 1],\n",
       "       [0, 2, 0, 1],\n",
       "       [1, 1, 0, 1]])"
      ]
     },
     "execution_count": 8,
     "metadata": {},
     "output_type": "execute_result"
    }
   ],
   "source": [
    "np.random.poisson(lam=1.0, size=(3,4))"
   ]
  },
  {
   "cell_type": "code",
   "execution_count": null,
   "metadata": {},
   "outputs": [],
   "source": []
  }
 ],
 "metadata": {
  "kernelspec": {
   "display_name": "Python 3",
   "language": "python",
   "name": "python3"
  },
  "language_info": {
   "codemirror_mode": {
    "name": "ipython",
    "version": 3
   },
   "file_extension": ".py",
   "mimetype": "text/x-python",
   "name": "python",
   "nbconvert_exporter": "python",
   "pygments_lexer": "ipython3",
   "version": "3.6.6"
  }
 },
 "nbformat": 4,
 "nbformat_minor": 2
}
