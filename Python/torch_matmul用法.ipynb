{
 "cells": [
  {
   "cell_type": "code",
   "execution_count": 7,
   "metadata": {},
   "outputs": [
    {
     "data": {
      "text/plain": [
       "<torch._C.Generator at 0x27c5267a750>"
      ]
     },
     "execution_count": 7,
     "metadata": {},
     "output_type": "execute_result"
    }
   ],
   "source": [
    "import torch\n",
    "import torch.nn as nn\n",
    "torch.manual_seed(224)"
   ]
  },
  {
   "cell_type": "markdown",
   "metadata": {},
   "source": [
    "# 如果tensor1和tensor2都是一维，则进行点乘操作"
   ]
  },
  {
   "cell_type": "code",
   "execution_count": 6,
   "metadata": {},
   "outputs": [
    {
     "name": "stdout",
     "output_type": "stream",
     "text": [
      "tensor([3, 2, 1, 2, 4])\n",
      "tensor([4, 2, 4, 1, 3])\n",
      "tensor(34)\n"
     ]
    }
   ],
   "source": [
    "a = torch.randint(1,5,(5,))\n",
    "b = torch.randint(1,5,(5,))\n",
    "c = torch.matmul(a,b)\n",
    "print (a)\n",
    "print (b)\n",
    "print (c)"
   ]
  },
  {
   "cell_type": "markdown",
   "metadata": {},
   "source": [
    "# 如果tensor1和tensor2都是二维，则进行矩阵乘法操作，类似torch.mm"
   ]
  },
  {
   "cell_type": "code",
   "execution_count": 9,
   "metadata": {},
   "outputs": [
    {
     "name": "stdout",
     "output_type": "stream",
     "text": [
      "tensor([[1, 2, 4],\n",
      "        [2, 3, 3]])\n",
      "tensor([[2, 1, 2, 4],\n",
      "        [4, 2, 4, 1],\n",
      "        [3, 3, 1, 1]])\n"
     ]
    }
   ],
   "source": [
    "a = torch.randint(1,5,(2,3))\n",
    "b = torch.randint(1,5,(3,4))\n",
    "print (a)\n",
    "print (b)"
   ]
  },
  {
   "cell_type": "code",
   "execution_count": 10,
   "metadata": {},
   "outputs": [
    {
     "data": {
      "text/plain": [
       "tensor([[22, 17, 14, 10],\n",
       "        [25, 17, 19, 14]])"
      ]
     },
     "execution_count": 10,
     "metadata": {},
     "output_type": "execute_result"
    }
   ],
   "source": [
    "c = torch.matmul(a,b)\n",
    "c"
   ]
  },
  {
   "cell_type": "code",
   "execution_count": 11,
   "metadata": {},
   "outputs": [
    {
     "data": {
      "text/plain": [
       "tensor([[22, 17, 14, 10],\n",
       "        [25, 17, 19, 14]])"
      ]
     },
     "execution_count": 11,
     "metadata": {},
     "output_type": "execute_result"
    }
   ],
   "source": [
    "d = torch.mm(a,b)\n",
    "d"
   ]
  },
  {
   "cell_type": "code",
   "execution_count": 16,
   "metadata": {},
   "outputs": [
    {
     "name": "stdout",
     "output_type": "stream",
     "text": [
      "tensor([[2, 4, 3, 4],\n",
      "        [2, 3, 1, 4],\n",
      "        [2, 1, 1, 4]])\n",
      "tensor([3, 1, 4, 2])\n",
      "tensor([30, 21, 19])\n",
      "torch.Size([3])\n"
     ]
    }
   ],
   "source": [
    "a = torch.randint(1,5,(3,4))\n",
    "b = torch.randint(1,5,(4,)) # b和a中的每一维依次做点乘\n",
    "print (a)\n",
    "print (b)\n",
    "c = torch.matmul(a,b)\n",
    "print (c)\n",
    "print (c.shape)"
   ]
  },
  {
   "cell_type": "markdown",
   "metadata": {},
   "source": [
    "# batch matrix的乘法，类似于torch.bmm"
   ]
  },
  {
   "cell_type": "code",
   "execution_count": 20,
   "metadata": {},
   "outputs": [
    {
     "name": "stdout",
     "output_type": "stream",
     "text": [
      "tensor([[[3, 4, 4],\n",
      "         [2, 4, 4]],\n",
      "\n",
      "        [[2, 1, 1],\n",
      "         [3, 3, 2]]])\n",
      "tensor([[[2, 2, 2, 2],\n",
      "         [3, 1, 2, 4],\n",
      "         [3, 1, 4, 3]],\n",
      "\n",
      "        [[3, 3, 2, 1],\n",
      "         [3, 3, 3, 3],\n",
      "         [4, 4, 4, 4]]])\n",
      "tensor([[[30, 14, 30, 34],\n",
      "         [28, 12, 28, 32]],\n",
      "\n",
      "        [[13, 13, 11,  9],\n",
      "         [26, 26, 23, 20]]])\n",
      "torch.Size([2, 2, 4])\n"
     ]
    }
   ],
   "source": [
    "a = torch.randint(1,5,(2,2,3))\n",
    "b = torch.randint(1,5,(2,3,4)) # b和a中的每一维依次做点乘\n",
    "print (a)\n",
    "print (b)\n",
    "c = torch.matmul(a,b)\n",
    "print (c)\n",
    "print (c.shape)"
   ]
  },
  {
   "cell_type": "code",
   "execution_count": 21,
   "metadata": {},
   "outputs": [
    {
     "data": {
      "text/plain": [
       "tensor([[[30, 14, 30, 34],\n",
       "         [28, 12, 28, 32]],\n",
       "\n",
       "        [[13, 13, 11,  9],\n",
       "         [26, 26, 23, 20]]])"
      ]
     },
     "execution_count": 21,
     "metadata": {},
     "output_type": "execute_result"
    }
   ],
   "source": [
    "torch.bmm(a,b)"
   ]
  },
  {
   "cell_type": "markdown",
   "metadata": {},
   "source": [
    "# [batch,s,m,n] * [batch,s,n,k]的矩阵乘法"
   ]
  },
  {
   "cell_type": "code",
   "execution_count": 5,
   "metadata": {},
   "outputs": [],
   "source": [
    "import torch\n",
    "a = torch.randint(1,5,(2, 3, 4, 2))\n",
    "b = torch.randint(1,5,(2, 3, 2, 4))\n",
    "c = torch.matmul(a,b)"
   ]
  },
  {
   "cell_type": "code",
   "execution_count": 6,
   "metadata": {},
   "outputs": [
    {
     "data": {
      "text/plain": [
       "torch.Size([2, 3, 4, 4])"
      ]
     },
     "execution_count": 6,
     "metadata": {},
     "output_type": "execute_result"
    }
   ],
   "source": [
    "c.shape"
   ]
  },
  {
   "cell_type": "code",
   "execution_count": null,
   "metadata": {},
   "outputs": [],
   "source": []
  }
 ],
 "metadata": {
  "kernelspec": {
   "display_name": "Python 3",
   "language": "python",
   "name": "python3"
  },
  "language_info": {
   "codemirror_mode": {
    "name": "ipython",
    "version": 3
   },
   "file_extension": ".py",
   "mimetype": "text/x-python",
   "name": "python",
   "nbconvert_exporter": "python",
   "pygments_lexer": "ipython3",
   "version": "3.6.6"
  }
 },
 "nbformat": 4,
 "nbformat_minor": 2
}
